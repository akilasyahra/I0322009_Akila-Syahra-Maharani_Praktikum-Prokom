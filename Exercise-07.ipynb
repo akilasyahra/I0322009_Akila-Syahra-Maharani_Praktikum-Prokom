{
 "cells": [
  {
   "cell_type": "code",
   "execution_count": 3,
   "metadata": {},
   "outputs": [
    {
     "name": "stdout",
     "output_type": "stream",
     "text": [
      "3 5 \n",
      "6 4 \n"
     ]
    },
    {
     "data": {
      "text/plain": [
       "[[3, 5], [6, 4]]"
      ]
     },
     "execution_count": 3,
     "metadata": {},
     "output_type": "execute_result"
    }
   ],
   "source": [
    "#Buatlah sebuah fungsi untuk membuat matrix berdasarkan input dari user\n",
    "\n",
    "def create_matrix(baris,kolom):\n",
    "    matrix = []\n",
    "    #Tulis kode kamu disini\n",
    "    for i in range(baris):\n",
    "        matrix.append([])\n",
    "        for j in range(kolom):\n",
    "            elemen = int(input(f\"Masukkan elemen matriks[{i}][{j}]: \"))\n",
    "            matrix[i].append(elemen)\n",
    "\n",
    "    for i in range(baris):\n",
    "        for j in range(kolom):\n",
    "            print(matrix[i][j], end=\" \")\n",
    "        print()\n",
    "\n",
    "    return matrix\n",
    "\n",
    "\n",
    "baris = int(input('Masukkan Jumlah Baris:\\t'))\n",
    "kolom = int(input('Masukkan Jumlah Kolom:\\t'))\n",
    "\n",
    "create_matrix(baris,kolom)"
   ]
  },
  {
   "cell_type": "code",
   "execution_count": 9,
   "metadata": {},
   "outputs": [
    {
     "name": "stdout",
     "output_type": "stream",
     "text": [
      "Nilai Matriks A: \n",
      "1 1 \n",
      "1 1 \n",
      "Nilai Matriks B: \n",
      "2 2 \n",
      "2 2 \n",
      "Hasil Penjumlahan: \n",
      "3 3  \n",
      "3 3  \n"
     ]
    },
    {
     "data": {
      "text/plain": [
       "[]"
      ]
     },
     "execution_count": 9,
     "metadata": {},
     "output_type": "execute_result"
    }
   ],
   "source": [
    "#Buatlah sebuah fungsi untuk menambah dua matrix berdasarkan input user\n",
    "\n",
    "def tambah_matrix(matrix1,matrix2):\n",
    "    tambah = []\n",
    "    #Tulis kode kamu disini\n",
    "    for i in range(len(matrix1)):\n",
    "     for j in range(len(matrix1[0])):\n",
    "          print(matrix1[i][j] + matrix2[i][j], end = ' ')\n",
    "     print(' ')\n",
    "    return tambah\n",
    "\n",
    "baris = int(input('Masukkan Jumlah Baris:\\t'))\n",
    "kolom = int(input('Masukkan Jumlah Kolom:\\t'))\n",
    "\n",
    "matrixA = []\n",
    "for i in range(baris):\n",
    "    matrixA.append([])\n",
    "    for j in range(kolom):\n",
    "        elemen = int(input(f\"Masukkan elemen matriks A [{i}][{j}]: \"))\n",
    "        matrixA[i].append(elemen)\n",
    "print(\"Nilai Matriks A: \")\n",
    "for i in range(baris):\n",
    "    for j in range(kolom):\n",
    "        print(matrixA[i][j], end=\" \")\n",
    "    print()\n",
    "\n",
    "matrixB = []\n",
    "for i in range(baris):\n",
    "    matrixB.append([])\n",
    "    for j in range(kolom):\n",
    "        elemen = int(input(f\"Masukkan elemen matriks B [{i}][{j}]: \"))\n",
    "        matrixB[i].append(elemen)\n",
    "print(\"Nilai Matriks B: \")\n",
    "for i in range(baris):\n",
    "    for j in range(kolom):\n",
    "        print(matrixB[i][j], end=\" \")\n",
    "    print()\n",
    "\n",
    "\n",
    "print(\"Hasil Penjumlahan: \")\n",
    "tambah_matrix(matrixA, matrixB)"
   ]
  },
  {
   "cell_type": "code",
   "execution_count": 10,
   "metadata": {},
   "outputs": [
    {
     "name": "stdout",
     "output_type": "stream",
     "text": [
      "\n",
      "Nilai Matriks A :\n",
      "2 2 \n",
      "2 2 \n",
      "\n",
      "Nilai Matriks B :\n",
      "3 3 \n",
      "3 3 \n",
      "\n",
      "Hasil Perkalian Matriks A dan Matriks B: \n",
      "12 12 \n",
      "12 12 \n"
     ]
    },
    {
     "data": {
      "text/plain": [
       "[[12, 12], [12, 12]]"
      ]
     },
     "execution_count": 10,
     "metadata": {},
     "output_type": "execute_result"
    }
   ],
   "source": [
    "#Buatlah fungsi untuk mengakalikan dua buah matrix berdasarkan input user\n",
    "\n",
    "def multiply_matrix(matrix1, matrix2):\n",
    "    result=[]\n",
    "\n",
    "    #Tulis kode kamu disini\n",
    "    for a in range(0,len(matrix1)) :\n",
    "        row = []\n",
    "        for b in range(0,len(matrix1[0])) :\n",
    "            total = 0\n",
    "            for c in range(0,len(matrix1)) :\n",
    "                total = total + (matrix1[a][c] * matrix2[c][b])\n",
    "            row.append(total)\n",
    "        result.append(row)\n",
    "    print('\\nHasil Perkalian Matriks A dan Matriks B: ')\n",
    "    for i in range(len(result)):\n",
    "        for j in range(len(result[0])) :\n",
    "            print(result[i][j], end=' ')\n",
    "        print()\n",
    "    return result\n",
    "\n",
    "baris = int(input('Masukkan Jumlah Baris :\\t'))\n",
    "kolom = int(input('Masukkan Jumlah Kolom :\\t'))\n",
    "\n",
    "matrix1 = []\n",
    "for a in range (baris):\n",
    "    matrix1.append([])\n",
    "    for b in range (kolom) :\n",
    "        nilai = int(input(f'Masukkan nilai matriks A [{a}][{b}] = '))\n",
    "        matrix1[a].append(nilai)\n",
    "print('\\nNilai Matriks A :')\n",
    "for a in range(len(matrix1)) :\n",
    "    for b in range(len(matrix1[0])) :\n",
    "        print(matrix1[a][b], end=' ')\n",
    "    print()\n",
    "\n",
    "matrix2 = []\n",
    "for a in range (baris):\n",
    "    matrix2.append([])\n",
    "    for b in range (kolom) :\n",
    "        nilai = int(input(f'Masukkan nilai matriks B [{a}][{b}] = '))\n",
    "        matrix2[a].append(nilai)\n",
    "print('\\nNilai Matriks B :')\n",
    "for a in range(len(matrix2)) :\n",
    "    for b in range(len(matrix2[0])) :\n",
    "        print(matrix2[a][b], end=' ')\n",
    "    print()\n",
    "\n",
    "multiply_matrix(matrix1, matrix2)\n",
    "\n"
   ]
  }
 ],
 "metadata": {
  "kernelspec": {
   "display_name": "Python 3",
   "language": "python",
   "name": "python3"
  },
  "language_info": {
   "name": "python",
   "version": "3.10.8"
  },
  "orig_nbformat": 4
 },
 "nbformat": 4,
 "nbformat_minor": 2
}
