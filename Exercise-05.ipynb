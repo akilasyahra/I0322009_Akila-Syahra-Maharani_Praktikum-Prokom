{
 "cells": [
  {
   "attachments": {},
   "cell_type": "markdown",
   "metadata": {},
   "source": [
    "1. Buatlah program untuk menampilkan total penjumlahan bilangan ganjil dan total penjumlahan bilangan genap dengan input dari user berupa range (batas atas dan batas bawah)!"
   ]
  },
  {
   "cell_type": "code",
   "execution_count": 2,
   "metadata": {},
   "outputs": [
    {
     "name": "stdout",
     "output_type": "stream",
     "text": [
      "total penjumlahan bilangan genap adalah 30\n",
      "total penjumlahan bilangan ganjil adalah 25\n"
     ]
    }
   ],
   "source": [
    "# Kerjakan nomor 1 di sini\n",
    "batas_atas = int(input('masukan batas atas'))\n",
    "batas_bawah = int(input('masukan batas atas'))\n",
    "\n",
    "jumlah_bil_ganjil = 0\n",
    "jumlah_bil_genap = 0\n",
    "\n",
    "for i in range (batas_atas,batas_bawah+1):\n",
    "    if i % 2 == 1:\n",
    "        jumlah_bil_ganjil += i\n",
    "    else:\n",
    "        jumlah_bil_genap += i\n",
    "print('total penjumlahan bilangan genap adalah', jumlah_bil_genap)\n",
    "print('total penjumlahan bilangan ganjil adalah', jumlah_bil_ganjil)"
   ]
  },
  {
   "attachments": {},
   "cell_type": "markdown",
   "metadata": {},
   "source": [
    "2. Buatlah sebuah list yang berisi daftar makanan khas daerah (minimal 10 makanan termasuk makanan khas Solo). Kemudian buat program pencarian menggunakan pengulangan. Apabila nama makanan yang user inputkan sudah sesuai dengan isi list maka program akan berhenti dan menampilkan output \"(makanan yang diinput user) adalah makanan khas daerah\"."
   ]
  },
  {
   "cell_type": "code",
   "execution_count": 3,
   "metadata": {},
   "outputs": [
    {
     "name": "stdout",
     "output_type": "stream",
     "text": [
      "timlo adalah makanan khas daerah\n"
     ]
    }
   ],
   "source": [
    "# Kerjakan nomor 2 di sini\n",
    "makanansolo = ['nasi liwet solo', 'gudeg ceker', 'serabi solo', 'selat solo', 'soto daging', 'sambal goreng labu siam', 'timlo', 'brambang asem', 'sate kere', 'tengkleng']\n",
    "\n",
    "while True:\n",
    "    makanan = input('masukan nama makanan: ')\n",
    "    if makanan.lower () in makanansolo:\n",
    "        print(f'{makanan} adalah makanan khas daerah')\n",
    "    else:\n",
    "        print(f'{makanan} bukan merupakan makanan khas daerah')\n",
    "    break\n"
   ]
  },
  {
   "attachments": {},
   "cell_type": "markdown",
   "metadata": {},
   "source": [
    "3. Buatlah program untuk menghitung rata-rata 7 bilangan dimana bilangan-bilangan tersebut didapat melalui input user!"
   ]
  },
  {
   "cell_type": "code",
   "execution_count": 4,
   "metadata": {},
   "outputs": [
    {
     "name": "stdout",
     "output_type": "stream",
     "text": [
      "[7.0, 6.0, 5.0, 4.0, 3.0, 2.0, 1.0]\n",
      "rata-rata ketujuh bilangan adalah  4.0\n"
     ]
    }
   ],
   "source": [
    "# Kerjakan nomor 3 di sini\n",
    "listbil = []\n",
    "for i in range (7):\n",
    "    bil = float(input('masukan nilai bilangan: '))\n",
    "    listbil.append(bil)\n",
    "    rata2 = sum(listbil)/len(listbil)\n",
    "print(listbil)\n",
    "print ('rata-rata ketujuh bilangan adalah ', rata2)"
   ]
  }
 ],
 "metadata": {
  "kernelspec": {
   "display_name": "Python 3",
   "language": "python",
   "name": "python3"
  },
  "language_info": {
   "codemirror_mode": {
    "name": "ipython",
    "version": 3
   },
   "file_extension": ".py",
   "mimetype": "text/x-python",
   "name": "python",
   "nbconvert_exporter": "python",
   "pygments_lexer": "ipython3",
   "version": "3.10.8"
  },
  "orig_nbformat": 4
 },
 "nbformat": 4,
 "nbformat_minor": 2
}
